{
 "cells": [
  {
   "cell_type": "markdown",
   "id": "3fd6203f",
   "metadata": {},
   "source": [
    "### A Notebook made to track and model air quality data in NYC\n",
    "\n",
    "#### "
   ]
  },
  {
   "cell_type": "code",
   "execution_count": 4,
   "id": "64a495c5",
   "metadata": {},
   "outputs": [],
   "source": [
    "import sklearn as sk\n",
    "import numpy as np\n",
    "import pandas as pd"
   ]
  },
  {
   "cell_type": "markdown",
   "id": "d4b6aa27",
   "metadata": {},
   "source": [
    "# Data Exploration"
   ]
  },
  {
   "cell_type": "code",
   "execution_count": null,
   "id": "3b38c0a7",
   "metadata": {},
   "outputs": [
    {
     "name": "stdout",
     "output_type": "stream",
     "text": [
      "21\n",
      "18\n"
     ]
    }
   ],
   "source": [
    "air_quality_csv_path = \"./Air_Quality.csv\"\n",
    "air_quality_df = pd.read_csv(air_quality_csv_path)\n",
    "\n",
    "data_exploration_status = True\n",
    "\n",
    "# Let's examine our data a little\n",
    "#print(air_quality_df.head())\n",
    "\n",
    "air_quality_headers = air_quality_df.columns\n",
    "\n",
    "if data_exploration_status:\n",
    "  for air_quality_header in air_quality_headers:\n",
    "    print(\"=========\")\n",
    "    print(air_quality_header)\n",
    "    print(\"All Unique Values In This Column\", air_quality_df[air_quality_header].unique())\n",
    "    print(\"=========\")\n",
    "    print()\n",
    "\n",
    "# Noticed that the Message column has no values except Not a Number. Best to drop that column.\n",
    "\n",
    "air_quality_df = air_quality_df.drop(\"Message\", axis=1)\n",
    "\n",
    "if data_exploration_status:\n",
    "  print(air_quality_df.columns)\n",
    "\n",
    "# Do the Indicator ID and Name columns have the same number of unique elements? \n",
    "# Perhaps there is a mapping here.\n",
    "\n",
    "print(len(air_quality_df[\"Indicator ID\"].unique()))\n",
    "print(len(air_quality_df[\"Name\"].unique()))\n",
    "\n",
    "# More Indicator IDs than Particle Names... Which Indicator IDs don't have Particle Names associated with them?"
   ]
  }
 ],
 "metadata": {
  "kernelspec": {
   "display_name": "data-science-projects",
   "language": "python",
   "name": "python3"
  },
  "language_info": {
   "codemirror_mode": {
    "name": "ipython",
    "version": 3
   },
   "file_extension": ".py",
   "mimetype": "text/x-python",
   "name": "python",
   "nbconvert_exporter": "python",
   "pygments_lexer": "ipython3",
   "version": "3.10.18"
  }
 },
 "nbformat": 4,
 "nbformat_minor": 5
}
